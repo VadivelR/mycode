{
 "cells": [
  {
   "cell_type": "code",
   "execution_count": null,
   "id": "8492f2d1-c1b0-4269-8d06-6adb4db9052d",
   "metadata": {
    "tags": []
   },
   "outputs": [],
   "source": [
    "print(\"hello\")"
   ]
  },
  {
   "cell_type": "markdown",
   "id": "925950e1-ca8f-4445-9611-17665135afda",
   "metadata": {},
   "source": [
    "# Heading level 1\n",
    "- Where to \n",
    "- How to **execute** code"
   ]
  },
  {
   "cell_type": "code",
   "execution_count": 12,
   "id": "8846fda2-c646-4095-8b78-1ef01423f67c",
   "metadata": {},
   "outputs": [
    {
     "data": {
      "text/plain": [
       "'hello jupyter'"
      ]
     },
     "execution_count": 12,
     "metadata": {},
     "output_type": "execute_result"
    }
   ],
   "source": [
    "greeting = \"Hello World!\"\n",
    "greeting\n",
    "greeting  \n",
    "greeting  \n",
    "x "
   ]
  },
  {
   "cell_type": "code",
   "execution_count": null,
   "id": "54f00e36-f4f7-4921-8028-a3c3f6fa87a7",
   "metadata": {},
   "outputs": [],
   "source": []
  }
 ],
 "metadata": {
  "kernelspec": {
   "display_name": "Python 3 (ipykernel)",
   "language": "python",
   "name": "python3"
  },
  "language_info": {
   "codemirror_mode": {
    "name": "ipython",
    "version": 3
   },
   "file_extension": ".py",
   "mimetype": "text/x-python",
   "name": "python",
   "nbconvert_exporter": "python",
   "pygments_lexer": "ipython3",
   "version": "3.8.10"
  }
 },
 "nbformat": 4,
 "nbformat_minor": 5
}
