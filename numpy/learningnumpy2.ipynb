{
 "cells": [
  {
   "cell_type": "code",
   "execution_count": 1,
   "id": "6b9ee849-3f6a-4709-ac16-911826fab6df",
   "metadata": {},
   "outputs": [
    {
     "name": "stdout",
     "output_type": "stream",
     "text": [
      "Array A has a shape of: (3,)\n",
      "Array A has dimension: 1\n"
     ]
    }
   ],
   "source": [
    "import numpy as np\n",
    "\n",
    "A = np.array([2.4, 6.7, 7.9])\n",
    "print(\"Array A has a shape of:\", A.shape) # shape returns a tuple of rows, cols \n",
    "print(\"Array A has dimension:\", A.ndim) # ndim returns an integer representing the dimensions\n"
   ]
  },
  {
   "cell_type": "code",
   "execution_count": 2,
   "id": "32a27ed6-8ecd-4a0c-aab6-57fef074fb9b",
   "metadata": {},
   "outputs": [
    {
     "name": "stdout",
     "output_type": "stream",
     "text": [
      "Array A has a shape of: (1, 3)\n",
      "Array A has dimension: 2\n"
     ]
    }
   ],
   "source": [
    "import numpy as np\n",
    "\n",
    "A = np.array([[2.4, 6.7, 7.9]])\n",
    "print(\"Array A has a shape of:\", A.shape) # shape returns a tuple of rows, cols \n",
    "print(\"Array A has dimension:\", A.ndim) # ndim returns an integer representing the dimensions\n"
   ]
  },
  {
   "cell_type": "code",
   "execution_count": 3,
   "id": "9bf2ab50-5533-493f-b73d-a3af6e3d88b0",
   "metadata": {},
   "outputs": [
    {
     "data": {
      "text/plain": [
       "1.1"
      ]
     },
     "execution_count": 3,
     "metadata": {},
     "output_type": "execute_result"
    }
   ],
   "source": [
    "A = np.array([ [2.4, 6.7, 7.9], # double brackets, so this is row 0\n",
    "             [1.1, -7.8, -0.7], # row 1\n",
    "             [4.1, 12.3, 4.8]]) # row 2\n",
    "A[1,0] # index A at row 1, col 0 (can also index using chained indexing: A[1][0]) \n"
   ]
  },
  {
   "cell_type": "code",
   "execution_count": 4,
   "id": "c36d9131-0d6e-434b-8748-04a4924a4764",
   "metadata": {},
   "outputs": [
    {
     "data": {
      "text/plain": [
       "array([2.4, 6.7, 7.9])"
      ]
     },
     "execution_count": 4,
     "metadata": {},
     "output_type": "execute_result"
    }
   ],
   "source": [
    "A[0,:] # grab all of row 0\n"
   ]
  },
  {
   "cell_type": "code",
   "execution_count": 5,
   "id": "4b31cb68-24bb-4a62-83ca-7bc3091a60fd",
   "metadata": {},
   "outputs": [
    {
     "data": {
      "text/plain": [
       "array([2.4, 1.1, 4.1])"
      ]
     },
     "execution_count": 5,
     "metadata": {},
     "output_type": "execute_result"
    }
   ],
   "source": [
    "A[:,0] # grab all of col 0\n",
    "\n"
   ]
  },
  {
   "cell_type": "code",
   "execution_count": 6,
   "id": "af79fcee-6823-4aef-a144-0b7777e5f332",
   "metadata": {},
   "outputs": [
    {
     "data": {
      "text/plain": [
       "array([[13, 14, 15],\n",
       "       [23, 24, 25],\n",
       "       [33, 34, 35]])"
      ]
     },
     "execution_count": 6,
     "metadata": {},
     "output_type": "execute_result"
    }
   ],
   "source": [
    "A = np.array([\n",
    "[11, 12, 13, 14, 15], # row 0\n",
    "[21, 22, 23, 24, 25], # row 1\n",
    "[31, 32, 33, 34, 35], # row 2\n",
    "[41, 42, 43, 44, 45], # row 3\n",
    "[51, 52, 53, 54, 55]]) # row 4\n",
    "\n",
    "A[:3, 2:] # first argument :3 slices rows 0-2, second argument 2: slices cols 2-end of array\n"
   ]
  },
  {
   "cell_type": "code",
   "execution_count": 7,
   "id": "6e909e4c-ffd3-43e2-a5b5-a69ae9789547",
   "metadata": {},
   "outputs": [
    {
     "data": {
      "text/plain": [
       "array([[41, 42, 43, 44, 45],\n",
       "       [51, 52, 53, 54, 55]])"
      ]
     },
     "execution_count": 7,
     "metadata": {},
     "output_type": "execute_result"
    }
   ],
   "source": [
    "A[3:, :]"
   ]
  },
  {
   "cell_type": "code",
   "execution_count": 8,
   "id": "a5f2049e-293e-4677-a2cf-251b076b50d9",
   "metadata": {},
   "outputs": [
    {
     "data": {
      "text/plain": [
       "array([[15],\n",
       "       [25],\n",
       "       [35],\n",
       "       [45],\n",
       "       [55]])"
      ]
     },
     "execution_count": 8,
     "metadata": {},
     "output_type": "execute_result"
    }
   ],
   "source": [
    "A[:, 4:]\n"
   ]
  },
  {
   "cell_type": "code",
   "execution_count": 9,
   "id": "438af321-2605-46cf-81ba-f84d7bf98e75",
   "metadata": {},
   "outputs": [
    {
     "data": {
      "text/plain": [
       "array([[11, 14],\n",
       "       [31, 34],\n",
       "       [51, 54]])"
      ]
     },
     "execution_count": 9,
     "metadata": {},
     "output_type": "execute_result"
    }
   ],
   "source": [
    "A[::2, ::3] # ::2 starts at row 0 through the end of the array, skipping over every other row, and ::3 starts at col 0 through the end of the array, grabbing every third entry\n"
   ]
  },
  {
   "cell_type": "code",
   "execution_count": 10,
   "id": "0bd7e629-0a00-4801-be06-ff030f4370f3",
   "metadata": {},
   "outputs": [
    {
     "data": {
      "text/plain": [
       "array([ 0,  1,  2,  3,  4,  5,  6,  7,  8,  9, 10, 11, 12, 13, 14, 15, 16,\n",
       "       17, 18, 19, 20, 21, 22, 23, 24, 25, 26, 27])"
      ]
     },
     "execution_count": 10,
     "metadata": {},
     "output_type": "execute_result"
    }
   ],
   "source": [
    "X=np.arange(28)\n",
    "X\n"
   ]
  },
  {
   "cell_type": "code",
   "execution_count": null,
   "id": "5acf0c5a-e4b6-45f0-8828-018722ae56d0",
   "metadata": {},
   "outputs": [],
   "source": []
  }
 ],
 "metadata": {
  "kernelspec": {
   "display_name": "Python 3 (ipykernel)",
   "language": "python",
   "name": "python3"
  },
  "language_info": {
   "codemirror_mode": {
    "name": "ipython",
    "version": 3
   },
   "file_extension": ".py",
   "mimetype": "text/x-python",
   "name": "python",
   "nbconvert_exporter": "python",
   "pygments_lexer": "ipython3",
   "version": "3.8.10"
  }
 },
 "nbformat": 4,
 "nbformat_minor": 5
}
