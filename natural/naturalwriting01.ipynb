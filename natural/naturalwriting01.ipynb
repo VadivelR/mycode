{
 "cells": [
  {
   "cell_type": "code",
   "execution_count": 2,
   "id": "515f3d92-8861-494d-bcfc-68d489cca00d",
   "metadata": {},
   "outputs": [],
   "source": [
    "def text2paragraphs(filename, min_size=1):\n",
    "    \"\"\" A text contained in the file 'filename' will be read \n",
    "    and chopped into paragraphs.\n",
    "    Paragraphs with a string length less than min_size will be ignored.\n",
    "    A list of paragraph strings will be returned\"\"\"\n",
    "    \n",
    "    txt = open(filename).read()\n",
    "    paragraphs = [para for para in txt.split(\"\\n\\n\") if len(para) > min_size]\n",
    "    return paragraphs\n"
   ]
  },
  {
   "cell_type": "code",
   "execution_count": 3,
   "id": "d3de3f6e-272a-44ba-bb35-86da53a7a57f",
   "metadata": {},
   "outputs": [],
   "source": [
    "# the position of lables is very important\n",
    "# it corresponds to a novel by that author within \"files\"\n",
    "# the position of the author is also relevant, as it will correspond to metrics\n",
    "# i.e. Samuel Butler's metrics are always returned in position 1\n",
    "labels = ['Virginia Woolf', 'Samuel Butler', 'Herman Melville', \n",
    "          'David Herbert Lawrence', 'Daniel Defoe', 'James Joyce']\n",
    "\n",
    "\n",
    "# names of books we have to train our machine model\n",
    "files = ['night_and_day_virginia_woolf.txt', 'the_way_of_all_flash_butler.txt',\n",
    "         'moby_dick_melville.txt', 'sons_and_lovers_lawrence.txt',\n",
    "         'robinson_crusoe_defoe.txt', 'james_joyce_ulysses.txt']\n",
    "\n",
    "# location of our books\n",
    "path = \"books/\"\n"
   ]
  },
  {
   "cell_type": "code",
   "execution_count": 4,
   "id": "9e4b67cf-cd41-446c-94b9-9766553108b9",
   "metadata": {},
   "outputs": [],
   "source": [
    "data = []\n",
    "targets = []\n",
    "counter = 0\n",
    "\n",
    "# loop across all files we have downloaded\n",
    "for fname in files:\n",
    "    paras = text2paragraphs(path + fname, min_size=150) # return a book with paragraphs over 150 chars in a list\n",
    "    data.extend(paras)\n",
    "    targets += [counter] * len(paras)\n",
    "    counter += 1\n"
   ]
  },
  {
   "cell_type": "code",
   "execution_count": 5,
   "id": "bbd18e01-028b-44f7-b904-ad18621d160e",
   "metadata": {},
   "outputs": [],
   "source": [
    "# cell is useless, because train_test_split will do the shuffling!\n",
    "\n",
    "import random\n",
    "\n",
    "data_targets = list(zip(data, targets))\n",
    "# create random permutation on list:\n",
    "data_targets = random.sample(data_targets, len(data_targets))\n",
    "\n",
    "data, targets = list(zip(*data_targets))\n"
   ]
  },
  {
   "cell_type": "code",
   "execution_count": 6,
   "id": "89c5b277-348e-4793-9427-5b1ffcbb37fd",
   "metadata": {},
   "outputs": [],
   "source": [
    "from sklearn.model_selection import train_test_split\n",
    "\n",
    "res = train_test_split(data, targets, \n",
    "                       train_size=0.8,\n",
    "                       test_size=0.2,\n",
    "                       random_state=42)\n",
    "train_data, test_data, train_targets, test_targets = res \n"
   ]
  },
  {
   "cell_type": "code",
   "execution_count": 7,
   "id": "b47016bc-44e9-434a-b1c9-d37c38961a65",
   "metadata": {},
   "outputs": [
    {
     "name": "stdout",
     "output_type": "stream",
     "text": [
      "accuracy score:  0.9156232988568318\n",
      "F1-score:  0.912133740108433\n"
     ]
    }
   ],
   "source": [
    "from sklearn.feature_extraction.text import CountVectorizer, ENGLISH_STOP_WORDS\n",
    "\n",
    "from sklearn.naive_bayes import MultinomialNB\n",
    "from sklearn import metrics\n",
    "\n",
    "vectorizer = CountVectorizer(stop_words=ENGLISH_STOP_WORDS)\n",
    "\n",
    "vectors = vectorizer.fit_transform(train_data)\n",
    "\n",
    "# creating a classifier\n",
    "classifier = MultinomialNB(alpha=.01)\n",
    "classifier.fit(vectors, train_targets)\n",
    "\n",
    "vectors_test = vectorizer.transform(test_data)\n",
    "\n",
    "predictions = classifier.predict(vectors_test)\n",
    "accuracy_score = metrics.accuracy_score(test_targets, \n",
    "                                        predictions)\n",
    "f1_score = metrics.f1_score(test_targets, \n",
    "                            predictions, \n",
    "                            average='macro')\n",
    "\n",
    "print(\"accuracy score: \", accuracy_score)\n",
    "print(\"F1-score: \", f1_score)\n"
   ]
  },
  {
   "cell_type": "code",
   "execution_count": 8,
   "id": "73a51557-8877-44c0-be57-ce45d48b1182",
   "metadata": {},
   "outputs": [
    {
     "name": "stdout",
     "output_type": "stream",
     "text": [
      "[5 2 0 3 0 5 5 0 2 5 0 0 1 0 0 0 0 0 1 0 1 0 0 5 1 5 0 1 1 0 0 0 5 2 2 3 0\n",
      " 2 2 3 0 0 0 0 0 3 0 2 0 0 0 4 2 5 2 0 0 0 0 1 0 5 5 0 3 2 0 0 0 0 5 5 5 5\n",
      " 0 0 0 0 0 2 2 0 0 2 2 0 5 3 2 5 0 0 0 0 0 5 1 0 1 0 0 3 5 5 2 5 5 5 5 0 5\n",
      " 0 0 0 0 0 0 3 2 0 0 0 2 0 1 2 2 0 5 5 0 3 0 0 0 0 0 5 1 5 0 0 0 0 0 0 0 0\n",
      " 0 0 5 1 0 3 5 1 1 1 1 0 0 0 0 1 0 5 0 1 0 0 0 5 5 5 5 0 2 0 0 3 0 0 0 0 0\n",
      " 5 0 0 0 0 5 0 0 0 0 0 0 0 0 0 0 0 0 5 5 0 0 0 5 5 5 2 0 5 2 0 0 0 0 0 5 0\n",
      " 0 5 5 0 0 0 0 2 3 0 0 0 0 5 0 0 5 3 5 1 0 5 5 5 0 0 5 0 1 0 0 0 0 0 0 1 5\n",
      " 1 1 0 5 5 5 5 2 0 0 0 0 5 0 2 2 0 1 0 0 0 0 0 2 3 0 4 0 0 5 0 1 0 0 0 0 1\n",
      " 1 0 0 5 5 0 5 0 0 0 0 0 5 3 0 0 0 5 3 1 3 0 1 3 0 0 0 0 0 0 3 0 0 0 0 0 5\n",
      " 3 3 5 0 3 0 0 0 1 0 1 0 0 0 0 2 1 0 0 0 1 1 0 0 0 0 0 3 0 0 0 0 2 2 0 0 0\n",
      " 1 1 0 0 0 0 0 0 0 0 0 0 0 0 3 3 0 0 0 0 1 5 0 0 0 0 0 0 0 0]\n",
      "accuracy score:  0.5925\n",
      "precision score:  0.5925\n",
      "F1-score:  0.12401883830455258\n"
     ]
    }
   ],
   "source": [
    "# we want to use paragraphs from this 2nd Virginia Wolf \n",
    "paras = text2paragraphs(path + \"the_voyage_out_virginia_woolf.txt\", min_size=250)\n",
    "\n",
    "# start on paragraph 100 and go to paragraph 500\n",
    "first_para, last_para = 100, 500\n",
    "vectors_test = vectorizer.transform(paras[first_para: last_para]) # pass a list of strings that will be used to make predictions against\n",
    "#vectors_test = vectorizer.transform([\"To be or not to be\"])\n",
    "\n",
    "predictions = classifier.predict(vectors_test) # make our predictions\n",
    "print(predictions)\n",
    "targets = [0] * (last_para - first_para)\n",
    "accuracy_score = metrics.accuracy_score(targets, \n",
    "                                        predictions)\n",
    "precision_score = metrics.precision_score(targets, \n",
    "                                          predictions, \n",
    "                                          average='macro')\n",
    "\n",
    "f1_score = metrics.f1_score(targets, \n",
    "                            predictions, \n",
    "                            average='macro')\n",
    "\n",
    "print(\"accuracy score: \", accuracy_score)\n",
    "print(\"precision score: \", accuracy_score)\n",
    "print(\"F1-score: \", f1_score)\n"
   ]
  },
  {
   "cell_type": "code",
   "execution_count": 9,
   "id": "48f010b3-c41c-420e-b361-395deeb2f726",
   "metadata": {},
   "outputs": [
    {
     "name": "stdout",
     "output_type": "stream",
     "text": [
      "[[3.44995708e-005 6.02111147e-006 4.11410543e-007 7.01456262e-005\n",
      "  2.13056748e-015 9.99888922e-001]\n",
      " [3.12178665e-001 3.96198947e-002 4.11273006e-001 5.92884327e-011\n",
      "  1.22236065e-012 2.36928434e-001]\n",
      " [9.99443944e-001 1.00109788e-010 5.18250707e-014 1.07662137e-010\n",
      "  3.20043953e-016 5.56055304e-004]\n",
      " ...\n",
      " [9.99999930e-001 7.01889760e-008 2.46716997e-040 8.34453065e-026\n",
      "  1.01002862e-051 1.20093119e-033]\n",
      " [9.99999998e-001 1.89924437e-010 3.34447429e-029 7.47722321e-034\n",
      "  7.50652165e-056 1.41765519e-009]\n",
      " [1.00000000e+000 8.79447870e-053 5.44967099e-067 8.64631132e-086\n",
      "  9.23990586e-112 3.04424642e-048]]\n"
     ]
    }
   ],
   "source": [
    "# perform a probability test\n",
    "predictions = classifier.predict_proba(vectors_test)\n",
    "print(predictions)\n"
   ]
  },
  {
   "cell_type": "code",
   "execution_count": 10,
   "id": "6243d10e-d316-42fc-adc2-4f6e6357bf5b",
   "metadata": {},
   "outputs": [
    {
     "name": "stdout",
     "output_type": "stream",
     "text": [
      "[3.44995708e-05 6.02111147e-06 4.11410543e-07 7.01456262e-05\n",
      " 2.13056748e-15 9.99888922e-01] \"That's the painful thing about pets,\" said Mr. Dalloway; \"they die. The\n",
      "first sorrow I can remember was for the death of a dormouse. I regret to\n",
      "say that I sat upon it. Still, that didn't make one any the less sorry.\n",
      "Here lies the duck that Samuel Johnson sat on, eh? I was big for my\n",
      "age.\"\n",
      "[3.12178665e-01 3.96198947e-02 4.11273006e-01 5.92884327e-11\n",
      " 1.22236065e-12 2.36928434e-01] \"Please tell me--everything.\" That was what she wanted to say. He had\n",
      "drawn apart one little chink and showed astonishing treasures. It seemed\n",
      "to her incredible that a man like that should be willing to talk to her.\n",
      "He had sisters and pets, and once lived in the country. She stirred her\n",
      "tea round and round; the bubbles which swam and clustered in the cup\n",
      "seemed to her like the union of their minds.\n",
      "[9.99443944e-01 1.00109788e-10 5.18250707e-14 1.07662137e-10\n",
      " 3.20043953e-16 5.56055304e-04] The talk meanwhile raced past her, and when Richard suddenly stated in a\n",
      "jocular tone of voice, \"I'm sure Miss Vinrace, now, has secret leanings\n",
      "towards Catholicism,\" she had no idea what to answer, and Helen could\n",
      "not help laughing at the start she gave.\n",
      "[7.44421172e-04 6.36047819e-06 1.80669258e-08 9.97024348e-01\n",
      " 2.79502968e-17 2.22485236e-03] However, breakfast was over and Mrs. Dalloway was rising. \"I always\n",
      "think religion's like collecting beetles,\" she said, summing up the\n",
      "discussion as she went up the stairs with Helen. \"One person has a\n",
      "passion for black beetles; another hasn't; it's no good arguing about\n",
      "it. What's _your_ black beetle now?\"\n",
      "[1.00000000e+00 7.38130054e-44 7.19900451e-40 4.15879673e-28\n",
      " 5.94279125e-77 1.09627403e-25] It was as though a blue shadow had fallen across a pool. Their eyes\n",
      "became deeper, and their voices more cordial. Instead of joining them\n",
      "as they began to pace the deck, Rachel was indignant with the prosperous\n",
      "matrons, who made her feel outside their world and motherless, and\n",
      "turning back, she left them abruptly. She slammed the door of her room,\n",
      "and pulled out her music. It was all old music--Bach and Beethoven,\n",
      "Mozart and Purcell--the pages yellow, the engraving rough to the finger.\n",
      "In three minutes she was deep in a very difficult, very classical fugue\n",
      "in A, and over her face came a queer remote impersonal expression of\n",
      "complete absorption and anxious satisfaction. Now she stumbled; now she\n",
      "faltered and had to play the same bar twice over; but an invisible\n",
      "line seemed to string the notes together, from which rose a shape,\n",
      "a building. She was so far absorbed in this work, for it was really\n",
      "difficult to find how all these sounds should stand together, and drew\n",
      "upon the whole of her faculties, that she never heard a knock at the\n",
      "door. It was burst impulsively open, and Mrs. Dalloway stood in the room\n",
      "leaving the door open, so that a strip of the white deck and of the blue\n",
      "sea appeared through the opening. The shape of the Bach fugue crashed to\n",
      "the ground.\n",
      "[9.68702420e-02 5.11383822e-02 1.60931258e-07 3.17090458e-03\n",
      " 3.87673557e-24 8.48820310e-01] \"He wrote awfully well, didn't he?\" said Clarissa; \"--if one likes\n",
      "that kind of thing--finished his sentences and all that. _Wuthering_\n",
      "_Heights_! Ah--that's more in my line. I really couldn't exist without\n",
      "the Brontes! Don't you love them? Still, on the whole, I'd rather live\n",
      "without them than without Jane Austen.\"\n",
      "[3.47761784e-03 4.31739720e-17 4.06115120e-07 1.93645855e-09\n",
      " 1.02924430e-31 9.96521974e-01] How divine!--and yet what nonsense!\" She looked lightly round the room.\n",
      "\"I always think it's _living_, not dying, that counts. I really respect\n",
      "some snuffy old stockbroker who's gone on adding up column after column\n",
      "all his days, and trotting back to his villa at Brixton with some old\n",
      "pug dog he worships, and a dreary little wife sitting at the end of the\n",
      "table, and going off to Margate for a fortnight--I assure you I know\n",
      "heaps like that--well, they seem to me _really_ nobler than poets whom\n",
      "every one worships, just because they're geniuses and die young. But I\n",
      "don't expect _you_ to agree with me!\"\n",
      "[9.99659277e-01 1.68019754e-05 8.93301437e-14 8.95175454e-07\n",
      " 1.79418378e-15 3.23026125e-04] \"When you're my age you'll see that the world is _crammed_ with\n",
      "delightful things. I think young people make such a mistake about\n",
      "that--not letting themselves be happy. I sometimes think that happiness\n",
      "is the only thing that counts. I don't know you well enough to say, but\n",
      "I should guess you might be a little inclined to--when one's young and\n",
      "attractive--I'm going to say it!--_every_thing's at one's feet.\" She\n",
      "glanced round as much as to say, \"not only a few stuffy books and Bach.\"\n",
      "[6.51848087e-11 1.51024353e-15 9.99999998e-01 1.18047249e-11\n",
      " 1.37707511e-11 1.88054177e-09] The shores of Portugal were beginning to lose their substance; but\n",
      "the land was still the land, though at a great distance. They could\n",
      "distinguish the little towns that were sprinkled in the folds of the\n",
      "hills, and the smoke rising faintly. The towns appeared to be very small\n",
      "in comparison with the great purple mountains behind them.\n",
      "[1.82194328e-07 2.10586877e-13 9.56257269e-04 1.14959498e-11\n",
      " 9.57271268e-17 9.99043561e-01] Rachel followed her eyes and found that they rested for a second, on the\n",
      "robust figure of Richard Dalloway, who was engaged in striking a match\n",
      "on the sole of his boot; while Willoughby expounded something, which\n",
      "seemed to be of great interest to them both.\n"
     ]
    }
   ],
   "source": [
    "for i in range(0, 10):\n",
    "    print(predictions[i], paras[i+first_para])\n"
   ]
  },
  {
   "cell_type": "code",
   "execution_count": null,
   "id": "588d509d-46f5-48b9-9cd3-db132a514326",
   "metadata": {},
   "outputs": [],
   "source": []
  }
 ],
 "metadata": {
  "kernelspec": {
   "display_name": "Python 3 (ipykernel)",
   "language": "python",
   "name": "python3"
  },
  "language_info": {
   "codemirror_mode": {
    "name": "ipython",
    "version": 3
   },
   "file_extension": ".py",
   "mimetype": "text/x-python",
   "name": "python",
   "nbconvert_exporter": "python",
   "pygments_lexer": "ipython3",
   "version": "3.8.10"
  }
 },
 "nbformat": 4,
 "nbformat_minor": 5
}
