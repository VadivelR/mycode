{
 "cells": [
  {
   "cell_type": "code",
   "execution_count": 19,
   "id": "8492f2d1-c1b0-4269-8d06-6adb4db9052d",
   "metadata": {
    "tags": []
   },
   "outputs": [
    {
     "name": "stdout",
     "output_type": "stream",
     "text": [
      "hello\n"
     ]
    }
   ],
   "source": [
    "print(\"hello\")"
   ]
  },
  {
   "cell_type": "markdown",
   "id": "a31e3fa7-bc1c-45b8-8b6e-ef2df7b1d738",
   "metadata": {},
   "source": [
    "# Learning Jupyer Notebook\n",
    "- Where to *click*\n",
    "- How to **execute** code\n"
   ]
  },
  {
   "cell_type": "code",
   "execution_count": 16,
   "id": "8846fda2-c646-4095-8b78-1ef01423f67c",
   "metadata": {},
   "outputs": [
    {
     "data": {
      "text/plain": [
       "5"
      ]
     },
     "execution_count": 16,
     "metadata": {},
     "output_type": "execute_result"
    }
   ],
   "source": [
    "x = 5\n",
    "x"
   ]
  },
  {
   "cell_type": "code",
   "execution_count": 17,
   "id": "54f00e36-f4f7-4921-8028-a3c3f6fa87a7",
   "metadata": {},
   "outputs": [
    {
     "data": {
      "text/plain": [
       "5"
      ]
     },
     "execution_count": 17,
     "metadata": {},
     "output_type": "execute_result"
    }
   ],
   "source": [
    "greeting = \"Hello World!\"\n",
    "greeting\n",
    "greeting  \n",
    "greeting  \n",
    "x"
   ]
  },
  {
   "cell_type": "code",
   "execution_count": null,
   "id": "2a8cc9b5-6e53-435a-9e04-d5b855ad1c39",
   "metadata": {},
   "outputs": [],
   "source": []
  }
 ],
 "metadata": {
  "kernelspec": {
   "display_name": "Python 3 (ipykernel)",
   "language": "python",
   "name": "python3"
  },
  "language_info": {
   "codemirror_mode": {
    "name": "ipython",
    "version": 3
   },
   "file_extension": ".py",
   "mimetype": "text/x-python",
   "name": "python",
   "nbconvert_exporter": "python",
   "pygments_lexer": "ipython3",
   "version": "3.8.10"
  }
 },
 "nbformat": 4,
 "nbformat_minor": 5
}
