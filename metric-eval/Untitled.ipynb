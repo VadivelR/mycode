{
 "cells": [
  {
   "cell_type": "markdown",
   "id": "7ac94ba0-e9f1-466f-8997-6f2ac09ca83f",
   "metadata": {},
   "source": [
    "\t# negative\tpositive\n",
    "# negative\tTN\tFP\n",
    "# positive\tFN\tTP"
   ]
  },
  {
   "cell_type": "code",
   "execution_count": 1,
   "id": "8170b7ee-8c45-49a9-a665-4b4fa61362dd",
   "metadata": {},
   "outputs": [
    {
     "data": {
      "text/plain": [
       "0.74"
      ]
     },
     "execution_count": 1,
     "metadata": {},
     "output_type": "execute_result"
    }
   ],
   "source": [
    "# describe all parts of the confusion matrix\n",
    "tp = 42\n",
    "tn = 32\n",
    "fp = 8\n",
    "fn = 18\n",
    "\n",
    "# calculate accuracy\n",
    "accuracy = (tp + tn)/(tp + tn + fp + fn)\n",
    "accuracy \n"
   ]
  },
  {
   "cell_type": "code",
   "execution_count": null,
   "id": "6850fb36-87f9-4546-aae5-de9fc791d823",
   "metadata": {},
   "outputs": [],
   "source": []
  },
  {
   "cell_type": "code",
   "execution_count": null,
   "id": "4dcb0d55-24df-4412-8b28-697bdabbdf18",
   "metadata": {},
   "outputs": [],
   "source": []
  },
  {
   "cell_type": "code",
   "execution_count": null,
   "id": "b246922a-994c-472c-9969-0050108e4acf",
   "metadata": {},
   "outputs": [],
   "source": []
  },
  {
   "cell_type": "markdown",
   "id": "6f0f776a-74d0-4558-b4a9-f7864aa15cf4",
   "metadata": {},
   "source": []
  }
 ],
 "metadata": {
  "kernelspec": {
   "display_name": "Python 3 (ipykernel)",
   "language": "python",
   "name": "python3"
  },
  "language_info": {
   "codemirror_mode": {
    "name": "ipython",
    "version": 3
   },
   "file_extension": ".py",
   "mimetype": "text/x-python",
   "name": "python",
   "nbconvert_exporter": "python",
   "pygments_lexer": "ipython3",
   "version": "3.8.10"
  }
 },
 "nbformat": 4,
 "nbformat_minor": 5
}
